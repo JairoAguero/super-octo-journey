{
 "cells": [
  {
   "cell_type": "code",
   "execution_count": 4,
   "metadata": {},
   "outputs": [
    {
     "name": "stdout",
     "output_type": "stream",
     "text": [
      "2022-02-07 16:38:23.941102\n",
      "2022-03-14 10:38:23.941102\n"
     ]
    }
   ],
   "source": [
    "from  datetime import *\n",
    "from  dateutil.relativedelta import *\n",
    "now = datetime.now()\n",
    "print(now)\n",
    "now = now + relativedelta(months=1, weeks=1, hour=10)\n",
    "print(now)"
   ]
  },
  {
   "cell_type": "markdown",
   "metadata": {},
   "source": [
    "C:\\Users\\jague\\Documents\\Project_Folder>.\\LaunchX\\Scripts\\activate\n",
    "\n",
    "(LaunchX) C:\\Users\\jague\\Documents\\Project_Folder>pip freeze\n",
    "\n",
    "numpy==1.22.2\n",
    "\n",
    "python-dateutil==2.8.2\n",
    "\n",
    "six==1.16.0\n",
    "\n",
    "(LaunchX) C:\\Users\\jague\\Documents\\Project_Folder>"
   ]
  }
 ],
 "metadata": {
  "interpreter": {
   "hash": "25aca815b6cb600ffd81204d55e623cb7bbe1730c0f81918e59b42e5d25564e3"
  },
  "kernelspec": {
   "display_name": "Python 3.10.2 64-bit",
   "language": "python",
   "name": "python3"
  },
  "language_info": {
   "codemirror_mode": {
    "name": "ipython",
    "version": 3
   },
   "file_extension": ".py",
   "mimetype": "text/x-python",
   "name": "python",
   "nbconvert_exporter": "python",
   "pygments_lexer": "ipython3",
   "version": "3.10.2"
  },
  "orig_nbformat": 4
 },
 "nbformat": 4,
 "nbformat_minor": 2
}
