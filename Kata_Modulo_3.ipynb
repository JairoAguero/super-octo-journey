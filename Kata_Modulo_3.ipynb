{
 "cells": [
  {
   "cell_type": "code",
   "execution_count": 10,
   "metadata": {},
   "outputs": [
    {
     "name": "stdout",
     "output_type": "stream",
     "text": [
      "Peligro, vamos a morir!!!\n"
     ]
    }
   ],
   "source": [
    "asteroide = 49\n",
    "if asteroide > 25:\n",
    "    print('Peligro, vamos a morir!!!')\n",
    "else:\n",
    "    print('Todo chido banda, no hay peligro')"
   ]
  },
  {
   "cell_type": "code",
   "execution_count": 2,
   "metadata": {},
   "outputs": [
    {
     "name": "stdout",
     "output_type": "stream",
     "text": [
      "No hay luz en el cielo, todo bien.\n"
     ]
    }
   ],
   "source": [
    "asteroide = 19 \n",
    "if asteroide > 20:\n",
    "    print('Luz en el cielo, indicador de asteroide con una velocidad superior a 20Km/s')\n",
    "elif asteroide == 20:\n",
    "    print('Luz en el cielo, indicador de asteroide a una velocidad de 20Km/s')\n",
    "else:\n",
    "    print('No hay luz en el cielo, todo bien.')"
   ]
  },
  {
   "cell_type": "code",
   "execution_count": 15,
   "metadata": {},
   "outputs": [
    {
     "name": "stdout",
     "output_type": "stream",
     "text": [
      "Ya nos cargo el payaso :(\n"
     ]
    }
   ],
   "source": [
    "\n",
    "asteroide_size = 50\n",
    "asteroide_speed = 30\n",
    "if asteroide_speed > 25 and asteroide_size > 25:\n",
    "    print('Ya nos cargo el payaso :(')\n",
    "elif asteroide_speed >= 20:\n",
    "    print('Hay una luz en el cielo, indicador de asteroide a una velocidad igual o superior a 20Km/s.')\n",
    "else: \n",
    "    print('Todo bien banda, no hay peligro.')"
   ]
  }
 ],
 "metadata": {
  "interpreter": {
   "hash": "25aca815b6cb600ffd81204d55e623cb7bbe1730c0f81918e59b42e5d25564e3"
  },
  "kernelspec": {
   "display_name": "Python 3.10.2 64-bit",
   "language": "python",
   "name": "python3"
  },
  "language_info": {
   "codemirror_mode": {
    "name": "ipython",
    "version": 3
   },
   "file_extension": ".py",
   "mimetype": "text/x-python",
   "name": "python",
   "nbconvert_exporter": "python",
   "pygments_lexer": "ipython3",
   "version": "3.10.2"
  },
  "orig_nbformat": 4
 },
 "nbformat": 4,
 "nbformat_minor": 2
}
