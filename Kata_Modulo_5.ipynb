{
 "cells": [
  {
   "cell_type": "code",
   "execution_count": 21,
   "metadata": {},
   "outputs": [
    {
     "data": {
      "text/plain": [
       "628949330"
      ]
     },
     "execution_count": 21,
     "metadata": {},
     "output_type": "execute_result"
    }
   ],
   "source": [
    "distancia_km_tierra = 149597870\n",
    "distancia_km_jupiter = 778547200\n",
    "distancia_btw_km = distancia_km_jupiter - distancia_km_tierra\n",
    "distancia_btw_km"
   ]
  },
  {
   "cell_type": "code",
   "execution_count": 22,
   "metadata": {},
   "outputs": [
    {
     "data": {
      "text/plain": [
       "390577533"
      ]
     },
     "execution_count": 22,
     "metadata": {},
     "output_type": "execute_result"
    }
   ],
   "source": [
    "distancia_millas = int(distancia_btw_km * 0.621)\n",
    "distancia_millas"
   ]
  },
  {
   "cell_type": "code",
   "execution_count": 9,
   "metadata": {},
   "outputs": [
    {
     "data": {
      "text/plain": [
       "50300000"
      ]
     },
     "execution_count": 9,
     "metadata": {},
     "output_type": "execute_result"
    }
   ],
   "source": [
    "primer_planeta = input('Introdusca la distancia del sol al primer planeta')\n",
    "segundo_planeta = input('Introdusca la distancia del sol al segundo planeta')\n",
    "distancia_entre_planetas = int(segundo_planeta) - int(primer_planeta)\n",
    "distancia_entre_planetas"
   ]
  },
  {
   "cell_type": "code",
   "execution_count": 23,
   "metadata": {},
   "outputs": [
    {
     "name": "stdout",
     "output_type": "stream",
     "text": [
      "50300000 Distancia en Km\n",
      "31236300 Distancia en Mi\n"
     ]
    }
   ],
   "source": [
    "primer_planeta = input('Introdusca la distancia del sol al primer planeta')\n",
    "segundo_planeta = input('Introdusca la distancia del sol al segundo planeta')\n",
    "distancia_entre_planetas = int(segundo_planeta) - int(primer_planeta)\n",
    "print(str(abs(distancia_entre_planetas)) + ' ' + ('Distancia en Km'))\n",
    "print(str(abs(int(distancia_entre_planetas * 0.621))) + ' ' + ('Distancia en Mi'))"
   ]
  }
 ],
 "metadata": {
  "interpreter": {
   "hash": "25aca815b6cb600ffd81204d55e623cb7bbe1730c0f81918e59b42e5d25564e3"
  },
  "kernelspec": {
   "display_name": "Python 3.10.2 64-bit",
   "language": "python",
   "name": "python3"
  },
  "language_info": {
   "codemirror_mode": {
    "name": "ipython",
    "version": 3
   },
   "file_extension": ".py",
   "mimetype": "text/x-python",
   "name": "python",
   "nbconvert_exporter": "python",
   "pygments_lexer": "ipython3",
   "version": "3.10.2"
  },
  "orig_nbformat": 4
 },
 "nbformat": 4,
 "nbformat_minor": 2
}
